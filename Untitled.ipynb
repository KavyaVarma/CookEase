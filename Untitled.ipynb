{
 "cells": [
  {
   "cell_type": "code",
   "execution_count": 3,
   "metadata": {},
   "outputs": [],
   "source": [
    "from recipe_scrapers import scrape_me\n",
    "import sys\n",
    "import re\n",
    "import nltk"
   ]
  },
  {
   "cell_type": "code",
   "execution_count": 4,
   "metadata": {},
   "outputs": [],
   "source": [
    "all_links = \"\"\"\n",
    "https://www.allrecipes.com/recipes/1874/world-cuisine/asian/indian/appetizers/?internalSource=hub%20nav&referringId=233&referringContentType=Recipe%20Hub&linkName=hub%20nav%20daughter&clickId=hub%20nav%202\n",
    "https://www.allrecipes.com/recipes/17136/world-cuisine/asian/indian/main-dishes/?internalSource=hub%20nav&referringId=233&referringContentType=Recipe%20Hub&linkName=hub%20nav%20daughter&clickId=hub%20nav%202\n",
    "https://www.allrecipes.com/recipes/1879/world-cuisine/asian/indian/desserts/?internalSource=hub%20nav&referringId=233&referringContentType=Recipe%20Hub&linkName=hub%20nav%20daughter&clickId=hub%20nav%202\n",
    "https://www.allrecipes.com/recipes/1894/world-cuisine/asian/thai/appetizers/?internalSource=hub%20nav&referringId=702&referringContentType=Recipe%20Hub&linkName=hub%20nav%20daughter&clickId=hub%20nav%202\n",
    "https://www.allrecipes.com/recipes/17137/world-cuisine/asian/thai/main-dishes/?internalSource=hub%20nav&referringId=702&referringContentType=Recipe%20Hub&linkName=hub%20nav%20daughter&clickId=hub%20nav%202\n",
    "https://www.allrecipes.com/recipes/23014/world-cuisine/asian/thai/desserts/?internalSource=hub%20nav&referringId=702&referringContentType=Recipe%20Hub&linkName=hub%20nav%20daughter&clickId=hub%20nav%202\n",
    "https://www.allrecipes.com/recipes/1793/world-cuisine/european/italian/appetizers/?internalSource=hub%20nav&referringId=723&referringContentType=Recipe%20Hub&linkName=hub%20nav%20daughter&clickId=hub%20nav%202\n",
    "https://www.allrecipes.com/recipes/16767/world-cuisine/european/italian/main-dishes/?internalSource=hub%20nav&referringId=723&referringContentType=Recipe%20Hub&linkName=hub%20nav%20daughter&clickId=hub%20nav%202\n",
    "https://www.allrecipes.com/recipes/1791/world-cuisine/european/italian/desserts/?internalSource=hub%20nav&referringId=723&referringContentType=Recipe%20Hub&linkName=hub%20nav%20daughter&clickId=hub%20nav%202\n",
    "https://www.allrecipes.com/recipes/1214/world-cuisine/latin-american/mexican/appetizers/?internalSource=hub%20nav&referringId=728&referringContentType=Recipe%20Hub&linkName=hub%20nav%20daughter&clickId=hub%20nav%202\n",
    "https://www.allrecipes.com/recipes/1219/world-cuisine/latin-american/mexican/main-dishes/tacos/?internalSource=hub%20nav&referringId=728&referringContentType=Recipe%20Hub&linkName=hub%20nav%20daughter&clickId=hub%20nav%202\n",
    "https://www.allrecipes.com/recipes/1217/world-cuisine/latin-american/mexican/desserts/?internalSource=hub%20nav&referringId=728&referringContentType=Recipe%20Hub&linkName=hub%20nav%20daughter&clickId=hub%20nav%202\n",
    "\"\"\".split(\"\\n\")[1:-1]\n",
    "food = {\"appetisers\":{}, \"mains\":{}, \"desserts\":{}}\n",
    "\n",
    "food_types = [\"appetisers\", \"mains\", \"desserts\"]\n",
    "cuisines = [\"Indian\", \"Thai\", \"Italian\", \"Mexican\"]"
   ]
  },
  {
   "cell_type": "markdown",
   "metadata": {},
   "source": [
    "### Indian"
   ]
  },
  {
   "cell_type": "code",
   "execution_count": 5,
   "metadata": {},
   "outputs": [
    {
     "name": "stdout",
     "output_type": "stream",
     "text": [
      "30/30\n",
      "30/30\n",
      "30/30\n",
      "30/30\n",
      "30/30\n",
      "30/30\n",
      "30/30\n",
      "30/30\n",
      "30/30\n",
      "30/30\n",
      "30/30\n"
     ]
    }
   ],
   "source": [
    "food_type = 0\n",
    "cuisine = 0\n",
    "\n",
    "for a_link in all_links:\n",
    "    main_link = a_link+\"&page=\"\n",
    "    recipes = set()\n",
    "    num = 30\n",
    "    for page_number in range(1, num):\n",
    "        sys.stdout.write(\"\\r%d/%d\" % (page_number, num))\n",
    "        scraper = scrape_me(main_link+str(page_number))\n",
    "        links = scraper.links()\n",
    "        flag = False\n",
    "        for link in links:\n",
    "            if \"https://www.allrecipes.com/recipe/\" in link[\"href\"]:\n",
    "                flag = True\n",
    "                recipes.add(link[\"href\"])\n",
    "        if flag==False:\n",
    "            print(\"\\r\"+str(num)+\"/\"+str(num))\n",
    "            break\n",
    "    food[food_types[food_type]][cuisines[cuisine]] = recipes\n",
    "    food_type = (food_type+1)%3\n",
    "    if food_type==0:\n",
    "        cuisine+=1\n"
   ]
  },
  {
   "cell_type": "code",
   "execution_count": 6,
   "metadata": {},
   "outputs": [
    {
     "name": "stdout",
     "output_type": "stream",
     "text": [
      "https://www.allrecipes.com/recipe/230663/bombay-chicken-wings/\n",
      "62\n",
      "https://www.allrecipes.com/recipe/23764/thai-chicken-balls/\n",
      "23\n",
      "https://www.allrecipes.com/recipe/222312/fig-brulee-with-burrata-cheese/\n",
      "203\n",
      "https://www.allrecipes.com/recipe/60309/alis-green-sauce/\n",
      "495\n",
      "https://www.allrecipes.com/recipe/84009/curried-beef-with-winter-vegetables/\n",
      "439\n",
      "https://www.allrecipes.com/recipe/245702/thai-shrimp-and-clam-curry/\n",
      "162\n",
      "https://www.allrecipes.com/recipe/85389/gourmet-mushroom-risotto/\n",
      "584\n",
      "https://www.allrecipes.com/recipe/228908/mushroom-and-onion-vegetarian-tacos/\n",
      "183\n",
      "https://www.allrecipes.com/recipe/257420/almond-burfi/\n",
      "46\n",
      "https://www.allrecipes.com/recipe/213818/thai-coconut-and-cocoa-macaroons/\n",
      "28\n",
      "https://www.allrecipes.com/recipe/260763/ube-panna-cotta/\n",
      "296\n",
      "https://www.allrecipes.com/recipe/7399/tres-leches-milk-cake/\n",
      "120\n"
     ]
    }
   ],
   "source": [
    "food_types = [\"appetisers\", \"mains\", \"desserts\"]\n",
    "cuisines = [\"Indian\", \"Thai\", \"Italian\", \"Mexican\"]\n",
    "\n",
    "for food_type in food_types:\n",
    "    for cuisine in cuisines:\n",
    "        print(list(food[food_type][cuisine])[0])\n",
    "        print(len(food[food_type][cuisine]))"
   ]
  },
  {
   "cell_type": "code",
   "execution_count": 115,
   "metadata": {},
   "outputs": [],
   "source": [
    "recipe = list(food[\"mains\"][\"Indian\"])[19]\n",
    "all_ingredients = set()"
   ]
  },
  {
   "cell_type": "code",
   "execution_count": 7,
   "metadata": {},
   "outputs": [],
   "source": [
    "def get_json(recipe, food_type, cuisine):\n",
    "    scraper = scrape_me(recipe)\n",
    "    ingredients = scraper.ingredients()\n",
    "    if ingredients==[]:\n",
    "        return None\n",
    "    new_food = {}\n",
    "    new_food[\"url\"] = recipe\n",
    "    new_food[\"image\"] = scraper.image()\n",
    "    new_food[\"title\"] = scraper.title()\n",
    "    new_food[\"type\"] = food_type\n",
    "    new_food[\"cuisine\"] = cuisine\n",
    "    new_food[\"ingredients\"] = set()\n",
    "    unnecessary = ['RB', 'VBN', 'JJ']\n",
    "    for ingredient in ingredients:\n",
    "        ingredient = re.sub(r'\\([^)]*\\)', '', ingredient)\n",
    "        ingredient = re.sub(r'\\/', '', ingredient)\n",
    "        ingredient = re.sub(r',', '', ingredient)\n",
    "        ingredient = re.sub(r'-', ' ', ingredient)\n",
    "        ingredient = re.sub(r'[0-9]', '', ingredient)\n",
    "        ingredient = re.sub(r'chile', 'chili', ingredient)\n",
    "        ingredient = [a for a in ingredient.split(\" \") if a!='' and a[-2:]!='ed' and a not in stopwords and a[0].isupper()==False and nltk.pos_tag([a])[0][1] not in unnecessary]\n",
    "        if 'pasta' in ingredient:\n",
    "            ingredient = ['pasta']\n",
    "        if len(ingredient)>0 and len(ingredient)<4:\n",
    "            new_food[\"ingredients\"].add(\" \".join(ingredient))\n",
    "            all_ingredients.add(\" \".join(ingredient))\n",
    "    new_food[\"ingredients\"] = list(new_food[\"ingredients\"])\n",
    "    return new_food\n",
    "        "
   ]
  },
  {
   "cell_type": "code",
   "execution_count": 8,
   "metadata": {},
   "outputs": [],
   "source": [
    "with open(\"./extras/stopwords\") as file:\n",
    "    stopwords = list(file.read().split(\"\\n\"))"
   ]
  },
  {
   "cell_type": "code",
   "execution_count": 9,
   "metadata": {},
   "outputs": [
    {
     "name": "stdout",
     "output_type": "stream",
     "text": [
      "120/120"
     ]
    }
   ],
   "source": [
    "food_types = [\"appetisers\", \"mains\", \"desserts\"]\n",
    "cuisines = [\"Indian\", \"Thai\", \"Italian\", \"Mexican\"]\n",
    "\n",
    "all_recipes = []\n",
    "all_ingredients = set()\n",
    "\n",
    "for food_type in food_types:\n",
    "    for cuisine in cuisines:\n",
    "        list_url = list(food[food_type][cuisine])\n",
    "        n = len(list_url)\n",
    "        for a in range(n):\n",
    "            sys.stdout.write(\"\\r%d/%d\" % (a, n))\n",
    "            new_recipe = get_json(list_url[a], food_type, cuisine)\n",
    "            if new_recipe!=None:\n",
    "                all_recipes.append(new_recipe)\n",
    "        sys.stdout.write(\"\\r%d/%d\" % (n, n))\n",
    "        "
   ]
  },
  {
   "cell_type": "code",
   "execution_count": 202,
   "metadata": {},
   "outputs": [
    {
     "data": {
      "text/plain": [
       "[('big', 'JJ')]"
      ]
     },
     "execution_count": 202,
     "metadata": {},
     "output_type": "execute_result"
    }
   ],
   "source": [
    "nltk.pos_tag(['big'])"
   ]
  },
  {
   "cell_type": "code",
   "execution_count": 10,
   "metadata": {},
   "outputs": [
    {
     "data": {
      "text/plain": [
       "1637"
      ]
     },
     "execution_count": 10,
     "metadata": {},
     "output_type": "execute_result"
    }
   ],
   "source": [
    "len(all_ingredients)"
   ]
  },
  {
   "cell_type": "code",
   "execution_count": 11,
   "metadata": {},
   "outputs": [
    {
     "data": {
      "text/plain": [
       "2147"
      ]
     },
     "execution_count": 11,
     "metadata": {},
     "output_type": "execute_result"
    }
   ],
   "source": [
    "len(all_recipes)"
   ]
  },
  {
   "cell_type": "code",
   "execution_count": 13,
   "metadata": {},
   "outputs": [],
   "source": [
    "import pickle"
   ]
  },
  {
   "cell_type": "code",
   "execution_count": 14,
   "metadata": {},
   "outputs": [],
   "source": [
    "file = open(\"ingredients.pkl\", \"wb\")\n",
    "pickle.dump(all_ingredients, file)\n",
    "file.close()\n",
    "\n",
    "file = open(\"recipes.pkl\", \"wb\")\n",
    "pickle.dump(all_recipes, file)\n",
    "file.close()"
   ]
  },
  {
   "cell_type": "markdown",
   "metadata": {},
   "source": [
    "# Starting Coding"
   ]
  },
  {
   "cell_type": "code",
   "execution_count": 55,
   "metadata": {},
   "outputs": [],
   "source": [
    "import json"
   ]
  },
  {
   "cell_type": "code",
   "execution_count": 56,
   "metadata": {},
   "outputs": [
    {
     "ename": "UnicodeDecodeError",
     "evalue": "'utf-8' codec can't decode byte 0x80 in position 0: invalid start byte",
     "output_type": "error",
     "traceback": [
      "\u001b[0;31m---------------------------------------------------------------------------\u001b[0m",
      "\u001b[0;31mUnicodeDecodeError\u001b[0m                        Traceback (most recent call last)",
      "\u001b[0;32m<ipython-input-56-22799f9d0b19>\u001b[0m in \u001b[0;36m<module>\u001b[0;34m()\u001b[0m\n\u001b[0;32m----> 1\u001b[0;31m \u001b[0mingredients\u001b[0m \u001b[0;34m=\u001b[0m \u001b[0mjson\u001b[0m\u001b[0;34m.\u001b[0m\u001b[0mload\u001b[0m\u001b[0;34m(\u001b[0m\u001b[0mopen\u001b[0m\u001b[0;34m(\u001b[0m\u001b[0;34m\"ingredients\"\u001b[0m\u001b[0;34m,\u001b[0m \u001b[0;34m\"rb\"\u001b[0m\u001b[0;34m)\u001b[0m\u001b[0;34m)\u001b[0m\u001b[0;34m\u001b[0m\u001b[0m\n\u001b[0m",
      "\u001b[0;32m~/anaconda3/lib/python3.6/json/__init__.py\u001b[0m in \u001b[0;36mload\u001b[0;34m(fp, cls, object_hook, parse_float, parse_int, parse_constant, object_pairs_hook, **kw)\u001b[0m\n\u001b[1;32m    297\u001b[0m         \u001b[0mcls\u001b[0m\u001b[0;34m=\u001b[0m\u001b[0mcls\u001b[0m\u001b[0;34m,\u001b[0m \u001b[0mobject_hook\u001b[0m\u001b[0;34m=\u001b[0m\u001b[0mobject_hook\u001b[0m\u001b[0;34m,\u001b[0m\u001b[0;34m\u001b[0m\u001b[0m\n\u001b[1;32m    298\u001b[0m         \u001b[0mparse_float\u001b[0m\u001b[0;34m=\u001b[0m\u001b[0mparse_float\u001b[0m\u001b[0;34m,\u001b[0m \u001b[0mparse_int\u001b[0m\u001b[0;34m=\u001b[0m\u001b[0mparse_int\u001b[0m\u001b[0;34m,\u001b[0m\u001b[0;34m\u001b[0m\u001b[0m\n\u001b[0;32m--> 299\u001b[0;31m         parse_constant=parse_constant, object_pairs_hook=object_pairs_hook, **kw)\n\u001b[0m\u001b[1;32m    300\u001b[0m \u001b[0;34m\u001b[0m\u001b[0m\n\u001b[1;32m    301\u001b[0m \u001b[0;34m\u001b[0m\u001b[0m\n",
      "\u001b[0;32m~/anaconda3/lib/python3.6/json/__init__.py\u001b[0m in \u001b[0;36mloads\u001b[0;34m(s, encoding, cls, object_hook, parse_float, parse_int, parse_constant, object_pairs_hook, **kw)\u001b[0m\n\u001b[1;32m    347\u001b[0m             raise TypeError('the JSON object must be str, bytes or bytearray, '\n\u001b[1;32m    348\u001b[0m                             'not {!r}'.format(s.__class__.__name__))\n\u001b[0;32m--> 349\u001b[0;31m         \u001b[0ms\u001b[0m \u001b[0;34m=\u001b[0m \u001b[0ms\u001b[0m\u001b[0;34m.\u001b[0m\u001b[0mdecode\u001b[0m\u001b[0;34m(\u001b[0m\u001b[0mdetect_encoding\u001b[0m\u001b[0;34m(\u001b[0m\u001b[0ms\u001b[0m\u001b[0;34m)\u001b[0m\u001b[0;34m,\u001b[0m \u001b[0;34m'surrogatepass'\u001b[0m\u001b[0;34m)\u001b[0m\u001b[0;34m\u001b[0m\u001b[0m\n\u001b[0m\u001b[1;32m    350\u001b[0m \u001b[0;34m\u001b[0m\u001b[0m\n\u001b[1;32m    351\u001b[0m     if (cls is None and object_hook is None and\n",
      "\u001b[0;31mUnicodeDecodeError\u001b[0m: 'utf-8' codec can't decode byte 0x80 in position 0: invalid start byte"
     ]
    }
   ],
   "source": [
    "ingredients = json.load(open(\"ingredients\", \"rb\"))"
   ]
  },
  {
   "cell_type": "code",
   "execution_count": 9,
   "metadata": {},
   "outputs": [],
   "source": [
    "text_initial = \"\"\"NSA PINTO BEANS\n",
    "\n",
    "D APPL CIDER VNGAR\n",
    "0 NSA OCD TOMATOES\n",
    "0 NSA DCD TOMATOES\n",
    "O THOMPSON RAISINS\n",
    "O TURKISH APRICOTS\n",
    "O VEG BROTH LS\n",
    "OATS ROLLED\n",
    "\n",
    "ORG COCONUT MLK LT\n",
    "ORG SESAME TAHINI\n",
    "ORG TOMATO PASTE\n",
    "ORG MN ELBONS\n",
    "ORGNL UNSNT SOYMLK\n",
    "PITTEO DATES\n",
    "\n",
    "SAN J TAMARI\n",
    "\n",
    "UNSNT ALMOND MILK\n",
    "\n",
    "SUBTOTAL\n",
    "\n",
    "ORDER TOTAL\n",
    "Master Card\n",
    "\n",
    "CHANGE\n",
    "\n",
    "$0.89\n",
    "$3.49\n",
    "$1.49\n",
    "$1.49\n",
    "$2.29\n",
    "$3.99\n",
    "$1.99\n",
    "$4.49\n",
    "$1.99\n",
    "$8.99\n",
    "$0.99\n",
    "\n",
    "1.69\n",
    "\n",
    "1.69\n",
    "\n",
    "3.29\n",
    "\n",
    "4.99\n",
    "$1.99\n",
    "\n",
    "3.52\n",
    ".52\n",
    "\n",
    "$0.00\n",
    "\n",
    "TotaT number“ of items sold = 37\n",
    "\n",
    "mmmm-n-n'n-nm-nm-n-nmmm\n",
    "\"\"\""
   ]
  },
  {
   "cell_type": "code",
   "execution_count": 53,
   "metadata": {},
   "outputs": [],
   "source": [
    "def get_items(text):\n",
    "    def check_words(line):\n",
    "        return \"total\" not in line and \"card\" not in line and \"change\" not in line and line.replace(' ', 'a').isalnum()\n",
    "\n",
    "    text = [line.lower() for line in text.split(\"\\n\") if line!=\"\"]\n",
    "    text = [line.lower().replace(\"$\", \"\").replace(\".\", \"\") for line in text]\n",
    "    text = [line for line in text if line.isdigit()==False and check_words(line)==True]\n",
    "    \n",
    "    for line in text:\n",
    "        words = [word for word in line.split(\" \") if len(word)>3]\n",
    "        match(words)"
   ]
  },
  {
   "cell_type": "code",
   "execution_count": 54,
   "metadata": {},
   "outputs": [
    {
     "name": "stdout",
     "output_type": "stream",
     "text": [
      "['pinto', 'beans']\n",
      "['appl', 'cider', 'vngar']\n",
      "['tomatoes']\n",
      "['tomatoes']\n",
      "['thompson', 'raisins']\n",
      "['turkish', 'apricots']\n",
      "['broth']\n",
      "['oats', 'rolled']\n",
      "['coconut']\n",
      "['sesame', 'tahini']\n",
      "['tomato', 'paste']\n",
      "['elbons']\n",
      "['orgnl', 'unsnt', 'soymlk']\n",
      "['pitteo', 'dates']\n",
      "['tamari']\n",
      "['unsnt', 'almond', 'milk']\n"
     ]
    }
   ],
   "source": [
    "get_items(text_initial)"
   ]
  },
  {
   "cell_type": "code",
   "execution_count": 106,
   "metadata": {},
   "outputs": [],
   "source": [
    "links = links[1:-1]"
   ]
  },
  {
   "cell_type": "code",
   "execution_count": null,
   "metadata": {},
   "outputs": [],
   "source": []
  }
 ],
 "metadata": {
  "kernelspec": {
   "display_name": "Python 3",
   "language": "python",
   "name": "python3"
  },
  "language_info": {
   "codemirror_mode": {
    "name": "ipython",
    "version": 3
   },
   "file_extension": ".py",
   "mimetype": "text/x-python",
   "name": "python",
   "nbconvert_exporter": "python",
   "pygments_lexer": "ipython3",
   "version": "3.6.5"
  }
 },
 "nbformat": 4,
 "nbformat_minor": 2
}
